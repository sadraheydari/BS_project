{
 "cells": [
  {
   "cell_type": "code",
   "execution_count": 1,
   "id": "uniform-coupon",
   "metadata": {},
   "outputs": [],
   "source": [
    "import pandas as pd\n",
    "import numpy as np\n",
    "from os import listdir\n",
    "from tqdm import tqdm\n",
    "from sklearn.manifold import TSNE"
   ]
  },
  {
   "cell_type": "code",
   "execution_count": 2,
   "id": "opposed-satisfaction",
   "metadata": {},
   "outputs": [
    {
     "name": "stderr",
     "output_type": "stream",
     "text": [
      "100%|██████████| 8/8 [04:44<00:00, 35.56s/it]\n"
     ]
    }
   ],
   "source": [
    "matrixs = listdir(\"../data/Matrix/\")\n",
    "\n",
    "matrix_values = []\n",
    "hhid_order = None\n",
    "\n",
    "for f_name in tqdm(matrixs):\n",
    "    temp_df = pd.read_csv('../data/Matrix/FamilyAgeGender.zip', index_col=0)\n",
    "    if hhid_order is None:\n",
    "        hhid_order = temp_df.index.values\n",
    "    temp_df = temp_df[list(map(str, hhid_order))].loc[hhid_order]\n",
    "    m = temp_df.values\n",
    "    matrix_values.append(m + m.T)"
   ]
  },
  {
   "cell_type": "code",
   "execution_count": 4,
   "id": "blind-tract",
   "metadata": {},
   "outputs": [],
   "source": [
    "tsne_model = TSNE(n_components=3, random_state=19, metric='precomputed', n_iter=300, verbose=1)"
   ]
  },
  {
   "cell_type": "code",
   "execution_count": 5,
   "id": "flying-uncle",
   "metadata": {},
   "outputs": [
    {
     "name": "stderr",
     "output_type": "stream",
     "text": [
      "C:\\Users\\Sepehr\\AppData\\Local\\Packages\\PythonSoftwareFoundation.Python.3.8_qbz5n2kfra8p0\\LocalCache\\local-packages\\Python38\\site-packages\\sklearn\\manifold\\_t_sne.py:800: FutureWarning: The default initialization in TSNE will change from 'random' to 'pca' in 1.2.\n",
      "  warnings.warn(\n",
      "C:\\Users\\Sepehr\\AppData\\Local\\Packages\\PythonSoftwareFoundation.Python.3.8_qbz5n2kfra8p0\\LocalCache\\local-packages\\Python38\\site-packages\\sklearn\\manifold\\_t_sne.py:810: FutureWarning: The default learning rate in TSNE will change from 200.0 to 'auto' in 1.2.\n",
      "  warnings.warn(\n"
     ]
    },
    {
     "name": "stdout",
     "output_type": "stream",
     "text": [
      "[t-SNE] Computing 91 nearest neighbors...\n",
      "[t-SNE] Indexed 9473 samples in 0.351s...\n",
      "[t-SNE] Computed neighbors for 9473 samples in 1.621s...\n",
      "[t-SNE] Computed conditional probabilities for sample 1000 / 9473\n",
      "[t-SNE] Computed conditional probabilities for sample 2000 / 9473\n",
      "[t-SNE] Computed conditional probabilities for sample 3000 / 9473\n",
      "[t-SNE] Computed conditional probabilities for sample 4000 / 9473\n",
      "[t-SNE] Computed conditional probabilities for sample 5000 / 9473\n",
      "[t-SNE] Computed conditional probabilities for sample 6000 / 9473\n",
      "[t-SNE] Computed conditional probabilities for sample 7000 / 9473\n",
      "[t-SNE] Computed conditional probabilities for sample 8000 / 9473\n",
      "[t-SNE] Computed conditional probabilities for sample 9000 / 9473\n",
      "[t-SNE] Computed conditional probabilities for sample 9473 / 9473\n",
      "[t-SNE] Mean sigma: 0.000000\n",
      "[t-SNE] KL divergence after 250 iterations with early exaggeration: 60.407436\n",
      "[t-SNE] KL divergence after 300 iterations: 1.436138\n"
     ]
    },
    {
     "name": "stderr",
     "output_type": "stream",
     "text": [
      "C:\\Users\\Sepehr\\AppData\\Local\\Packages\\PythonSoftwareFoundation.Python.3.8_qbz5n2kfra8p0\\LocalCache\\local-packages\\Python38\\site-packages\\sklearn\\manifold\\_t_sne.py:800: FutureWarning: The default initialization in TSNE will change from 'random' to 'pca' in 1.2.\n",
      "  warnings.warn(\n",
      "C:\\Users\\Sepehr\\AppData\\Local\\Packages\\PythonSoftwareFoundation.Python.3.8_qbz5n2kfra8p0\\LocalCache\\local-packages\\Python38\\site-packages\\sklearn\\manifold\\_t_sne.py:810: FutureWarning: The default learning rate in TSNE will change from 200.0 to 'auto' in 1.2.\n",
      "  warnings.warn(\n"
     ]
    },
    {
     "name": "stdout",
     "output_type": "stream",
     "text": [
      "[t-SNE] Computing 91 nearest neighbors...\n",
      "[t-SNE] Indexed 9473 samples in 0.286s...\n",
      "[t-SNE] Computed neighbors for 9473 samples in 1.881s...\n",
      "[t-SNE] Computed conditional probabilities for sample 1000 / 9473\n",
      "[t-SNE] Computed conditional probabilities for sample 2000 / 9473\n",
      "[t-SNE] Computed conditional probabilities for sample 3000 / 9473\n",
      "[t-SNE] Computed conditional probabilities for sample 4000 / 9473\n",
      "[t-SNE] Computed conditional probabilities for sample 5000 / 9473\n",
      "[t-SNE] Computed conditional probabilities for sample 6000 / 9473\n",
      "[t-SNE] Computed conditional probabilities for sample 7000 / 9473\n",
      "[t-SNE] Computed conditional probabilities for sample 8000 / 9473\n",
      "[t-SNE] Computed conditional probabilities for sample 9000 / 9473\n",
      "[t-SNE] Computed conditional probabilities for sample 9473 / 9473\n",
      "[t-SNE] Mean sigma: 0.000000\n",
      "[t-SNE] KL divergence after 250 iterations with early exaggeration: 60.407436\n",
      "[t-SNE] KL divergence after 300 iterations: 1.436138\n"
     ]
    },
    {
     "name": "stderr",
     "output_type": "stream",
     "text": [
      "C:\\Users\\Sepehr\\AppData\\Local\\Packages\\PythonSoftwareFoundation.Python.3.8_qbz5n2kfra8p0\\LocalCache\\local-packages\\Python38\\site-packages\\sklearn\\manifold\\_t_sne.py:800: FutureWarning: The default initialization in TSNE will change from 'random' to 'pca' in 1.2.\n",
      "  warnings.warn(\n",
      "C:\\Users\\Sepehr\\AppData\\Local\\Packages\\PythonSoftwareFoundation.Python.3.8_qbz5n2kfra8p0\\LocalCache\\local-packages\\Python38\\site-packages\\sklearn\\manifold\\_t_sne.py:810: FutureWarning: The default learning rate in TSNE will change from 200.0 to 'auto' in 1.2.\n",
      "  warnings.warn(\n"
     ]
    },
    {
     "name": "stdout",
     "output_type": "stream",
     "text": [
      "[t-SNE] Computing 91 nearest neighbors...\n",
      "[t-SNE] Indexed 9473 samples in 0.360s...\n",
      "[t-SNE] Computed neighbors for 9473 samples in 1.928s...\n",
      "[t-SNE] Computed conditional probabilities for sample 1000 / 9473\n",
      "[t-SNE] Computed conditional probabilities for sample 2000 / 9473\n",
      "[t-SNE] Computed conditional probabilities for sample 3000 / 9473\n",
      "[t-SNE] Computed conditional probabilities for sample 4000 / 9473\n",
      "[t-SNE] Computed conditional probabilities for sample 5000 / 9473\n",
      "[t-SNE] Computed conditional probabilities for sample 6000 / 9473\n",
      "[t-SNE] Computed conditional probabilities for sample 7000 / 9473\n",
      "[t-SNE] Computed conditional probabilities for sample 8000 / 9473\n",
      "[t-SNE] Computed conditional probabilities for sample 9000 / 9473\n",
      "[t-SNE] Computed conditional probabilities for sample 9473 / 9473\n",
      "[t-SNE] Mean sigma: 0.000000\n",
      "[t-SNE] KL divergence after 250 iterations with early exaggeration: 60.407436\n",
      "[t-SNE] KL divergence after 300 iterations: 1.436138\n"
     ]
    },
    {
     "name": "stderr",
     "output_type": "stream",
     "text": [
      "C:\\Users\\Sepehr\\AppData\\Local\\Packages\\PythonSoftwareFoundation.Python.3.8_qbz5n2kfra8p0\\LocalCache\\local-packages\\Python38\\site-packages\\sklearn\\manifold\\_t_sne.py:800: FutureWarning: The default initialization in TSNE will change from 'random' to 'pca' in 1.2.\n",
      "  warnings.warn(\n",
      "C:\\Users\\Sepehr\\AppData\\Local\\Packages\\PythonSoftwareFoundation.Python.3.8_qbz5n2kfra8p0\\LocalCache\\local-packages\\Python38\\site-packages\\sklearn\\manifold\\_t_sne.py:810: FutureWarning: The default learning rate in TSNE will change from 200.0 to 'auto' in 1.2.\n",
      "  warnings.warn(\n"
     ]
    },
    {
     "name": "stdout",
     "output_type": "stream",
     "text": [
      "[t-SNE] Computing 91 nearest neighbors...\n",
      "[t-SNE] Indexed 9473 samples in 0.326s...\n",
      "[t-SNE] Computed neighbors for 9473 samples in 1.529s...\n",
      "[t-SNE] Computed conditional probabilities for sample 1000 / 9473\n",
      "[t-SNE] Computed conditional probabilities for sample 2000 / 9473\n",
      "[t-SNE] Computed conditional probabilities for sample 3000 / 9473\n",
      "[t-SNE] Computed conditional probabilities for sample 4000 / 9473\n",
      "[t-SNE] Computed conditional probabilities for sample 5000 / 9473\n",
      "[t-SNE] Computed conditional probabilities for sample 6000 / 9473\n",
      "[t-SNE] Computed conditional probabilities for sample 7000 / 9473\n",
      "[t-SNE] Computed conditional probabilities for sample 8000 / 9473\n",
      "[t-SNE] Computed conditional probabilities for sample 9000 / 9473\n",
      "[t-SNE] Computed conditional probabilities for sample 9473 / 9473\n",
      "[t-SNE] Mean sigma: 0.000000\n",
      "[t-SNE] KL divergence after 250 iterations with early exaggeration: 60.407436\n",
      "[t-SNE] KL divergence after 300 iterations: 1.436138\n"
     ]
    },
    {
     "name": "stderr",
     "output_type": "stream",
     "text": [
      "C:\\Users\\Sepehr\\AppData\\Local\\Packages\\PythonSoftwareFoundation.Python.3.8_qbz5n2kfra8p0\\LocalCache\\local-packages\\Python38\\site-packages\\sklearn\\manifold\\_t_sne.py:800: FutureWarning: The default initialization in TSNE will change from 'random' to 'pca' in 1.2.\n",
      "  warnings.warn(\n",
      "C:\\Users\\Sepehr\\AppData\\Local\\Packages\\PythonSoftwareFoundation.Python.3.8_qbz5n2kfra8p0\\LocalCache\\local-packages\\Python38\\site-packages\\sklearn\\manifold\\_t_sne.py:810: FutureWarning: The default learning rate in TSNE will change from 200.0 to 'auto' in 1.2.\n",
      "  warnings.warn(\n"
     ]
    },
    {
     "name": "stdout",
     "output_type": "stream",
     "text": [
      "[t-SNE] Computing 91 nearest neighbors...\n",
      "[t-SNE] Indexed 9473 samples in 0.422s...\n",
      "[t-SNE] Computed neighbors for 9473 samples in 1.777s...\n",
      "[t-SNE] Computed conditional probabilities for sample 1000 / 9473\n",
      "[t-SNE] Computed conditional probabilities for sample 2000 / 9473\n",
      "[t-SNE] Computed conditional probabilities for sample 3000 / 9473\n",
      "[t-SNE] Computed conditional probabilities for sample 4000 / 9473\n",
      "[t-SNE] Computed conditional probabilities for sample 5000 / 9473\n",
      "[t-SNE] Computed conditional probabilities for sample 6000 / 9473\n",
      "[t-SNE] Computed conditional probabilities for sample 7000 / 9473\n",
      "[t-SNE] Computed conditional probabilities for sample 8000 / 9473\n",
      "[t-SNE] Computed conditional probabilities for sample 9000 / 9473\n",
      "[t-SNE] Computed conditional probabilities for sample 9473 / 9473\n",
      "[t-SNE] Mean sigma: 0.000000\n",
      "[t-SNE] KL divergence after 250 iterations with early exaggeration: 60.407436\n",
      "[t-SNE] KL divergence after 300 iterations: 1.436138\n"
     ]
    },
    {
     "name": "stderr",
     "output_type": "stream",
     "text": [
      "C:\\Users\\Sepehr\\AppData\\Local\\Packages\\PythonSoftwareFoundation.Python.3.8_qbz5n2kfra8p0\\LocalCache\\local-packages\\Python38\\site-packages\\sklearn\\manifold\\_t_sne.py:800: FutureWarning: The default initialization in TSNE will change from 'random' to 'pca' in 1.2.\n",
      "  warnings.warn(\n",
      "C:\\Users\\Sepehr\\AppData\\Local\\Packages\\PythonSoftwareFoundation.Python.3.8_qbz5n2kfra8p0\\LocalCache\\local-packages\\Python38\\site-packages\\sklearn\\manifold\\_t_sne.py:810: FutureWarning: The default learning rate in TSNE will change from 200.0 to 'auto' in 1.2.\n",
      "  warnings.warn(\n"
     ]
    },
    {
     "name": "stdout",
     "output_type": "stream",
     "text": [
      "[t-SNE] Computing 91 nearest neighbors...\n",
      "[t-SNE] Indexed 9473 samples in 0.338s...\n",
      "[t-SNE] Computed neighbors for 9473 samples in 2.577s...\n",
      "[t-SNE] Computed conditional probabilities for sample 1000 / 9473\n",
      "[t-SNE] Computed conditional probabilities for sample 2000 / 9473\n",
      "[t-SNE] Computed conditional probabilities for sample 3000 / 9473\n",
      "[t-SNE] Computed conditional probabilities for sample 4000 / 9473\n",
      "[t-SNE] Computed conditional probabilities for sample 5000 / 9473\n",
      "[t-SNE] Computed conditional probabilities for sample 6000 / 9473\n",
      "[t-SNE] Computed conditional probabilities for sample 7000 / 9473\n",
      "[t-SNE] Computed conditional probabilities for sample 8000 / 9473\n",
      "[t-SNE] Computed conditional probabilities for sample 9000 / 9473\n",
      "[t-SNE] Computed conditional probabilities for sample 9473 / 9473\n",
      "[t-SNE] Mean sigma: 0.000000\n",
      "[t-SNE] KL divergence after 250 iterations with early exaggeration: 60.407436\n",
      "[t-SNE] KL divergence after 300 iterations: 1.436138\n"
     ]
    },
    {
     "name": "stderr",
     "output_type": "stream",
     "text": [
      "C:\\Users\\Sepehr\\AppData\\Local\\Packages\\PythonSoftwareFoundation.Python.3.8_qbz5n2kfra8p0\\LocalCache\\local-packages\\Python38\\site-packages\\sklearn\\manifold\\_t_sne.py:800: FutureWarning: The default initialization in TSNE will change from 'random' to 'pca' in 1.2.\n",
      "  warnings.warn(\n",
      "C:\\Users\\Sepehr\\AppData\\Local\\Packages\\PythonSoftwareFoundation.Python.3.8_qbz5n2kfra8p0\\LocalCache\\local-packages\\Python38\\site-packages\\sklearn\\manifold\\_t_sne.py:810: FutureWarning: The default learning rate in TSNE will change from 200.0 to 'auto' in 1.2.\n",
      "  warnings.warn(\n"
     ]
    },
    {
     "name": "stdout",
     "output_type": "stream",
     "text": [
      "[t-SNE] Computing 91 nearest neighbors...\n",
      "[t-SNE] Indexed 9473 samples in 0.334s...\n",
      "[t-SNE] Computed neighbors for 9473 samples in 1.714s...\n",
      "[t-SNE] Computed conditional probabilities for sample 1000 / 9473\n",
      "[t-SNE] Computed conditional probabilities for sample 2000 / 9473\n",
      "[t-SNE] Computed conditional probabilities for sample 3000 / 9473\n",
      "[t-SNE] Computed conditional probabilities for sample 4000 / 9473\n",
      "[t-SNE] Computed conditional probabilities for sample 5000 / 9473\n",
      "[t-SNE] Computed conditional probabilities for sample 6000 / 9473\n",
      "[t-SNE] Computed conditional probabilities for sample 7000 / 9473\n",
      "[t-SNE] Computed conditional probabilities for sample 8000 / 9473\n",
      "[t-SNE] Computed conditional probabilities for sample 9000 / 9473\n",
      "[t-SNE] Computed conditional probabilities for sample 9473 / 9473\n",
      "[t-SNE] Mean sigma: 0.000000\n",
      "[t-SNE] KL divergence after 250 iterations with early exaggeration: 60.407436\n",
      "[t-SNE] KL divergence after 300 iterations: 1.436138\n"
     ]
    },
    {
     "name": "stderr",
     "output_type": "stream",
     "text": [
      "C:\\Users\\Sepehr\\AppData\\Local\\Packages\\PythonSoftwareFoundation.Python.3.8_qbz5n2kfra8p0\\LocalCache\\local-packages\\Python38\\site-packages\\sklearn\\manifold\\_t_sne.py:800: FutureWarning: The default initialization in TSNE will change from 'random' to 'pca' in 1.2.\n",
      "  warnings.warn(\n",
      "C:\\Users\\Sepehr\\AppData\\Local\\Packages\\PythonSoftwareFoundation.Python.3.8_qbz5n2kfra8p0\\LocalCache\\local-packages\\Python38\\site-packages\\sklearn\\manifold\\_t_sne.py:810: FutureWarning: The default learning rate in TSNE will change from 200.0 to 'auto' in 1.2.\n",
      "  warnings.warn(\n"
     ]
    },
    {
     "name": "stdout",
     "output_type": "stream",
     "text": [
      "[t-SNE] Computing 91 nearest neighbors...\n",
      "[t-SNE] Indexed 9473 samples in 0.333s...\n",
      "[t-SNE] Computed neighbors for 9473 samples in 1.546s...\n",
      "[t-SNE] Computed conditional probabilities for sample 1000 / 9473\n",
      "[t-SNE] Computed conditional probabilities for sample 2000 / 9473\n",
      "[t-SNE] Computed conditional probabilities for sample 3000 / 9473\n",
      "[t-SNE] Computed conditional probabilities for sample 4000 / 9473\n",
      "[t-SNE] Computed conditional probabilities for sample 5000 / 9473\n",
      "[t-SNE] Computed conditional probabilities for sample 6000 / 9473\n",
      "[t-SNE] Computed conditional probabilities for sample 7000 / 9473\n",
      "[t-SNE] Computed conditional probabilities for sample 8000 / 9473\n",
      "[t-SNE] Computed conditional probabilities for sample 9000 / 9473\n",
      "[t-SNE] Computed conditional probabilities for sample 9473 / 9473\n",
      "[t-SNE] Mean sigma: 0.000000\n",
      "[t-SNE] KL divergence after 250 iterations with early exaggeration: 60.407436\n",
      "[t-SNE] KL divergence after 300 iterations: 1.436138\n"
     ]
    }
   ],
   "source": [
    "result = []\n",
    "for m in matrix_values:\n",
    "    result.append(\n",
    "        tsne_model.fit_transform(m)\n",
    "    )"
   ]
  },
  {
   "cell_type": "code",
   "execution_count": 6,
   "id": "future-aviation",
   "metadata": {},
   "outputs": [
    {
     "data": {
      "text/plain": [
       "(9473, 24)"
      ]
     },
     "execution_count": 6,
     "metadata": {},
     "output_type": "execute_result"
    }
   ],
   "source": [
    "data = np.concatenate(result, axis=1)\n",
    "data.shape"
   ]
  },
  {
   "cell_type": "code",
   "execution_count": 7,
   "id": "assured-oakland",
   "metadata": {},
   "outputs": [],
   "source": [
    "data_df = pd.DataFrame(data, index=hhid_order)\n",
    "data_df.to_csv('../data/vectors.zip', compression={'method': 'zip', 'archive_name': 'vector.csv'})"
   ]
  }
 ],
 "metadata": {
  "kernelspec": {
   "display_name": "Python 3.8.10 64-bit",
   "language": "python",
   "name": "python3"
  },
  "language_info": {
   "codemirror_mode": {
    "name": "ipython",
    "version": 3
   },
   "file_extension": ".py",
   "mimetype": "text/x-python",
   "name": "python",
   "nbconvert_exporter": "python",
   "pygments_lexer": "ipython3",
   "version": "3.8.10"
  },
  "vscode": {
   "interpreter": {
    "hash": "b4c01c8f52586033bb4bb2bf4f864991e275e728809d596b5bf2a750c26b84f7"
   }
  }
 },
 "nbformat": 4,
 "nbformat_minor": 5
}
