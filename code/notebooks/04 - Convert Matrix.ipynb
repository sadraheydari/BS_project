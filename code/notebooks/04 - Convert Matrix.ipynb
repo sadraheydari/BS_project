{
 "cells": [
  {
   "cell_type": "code",
   "execution_count": 21,
   "id": "uniform-coupon",
   "metadata": {},
   "outputs": [],
   "source": [
    "import pandas as pd\n",
    "import numpy as np\n",
    "from os import listdir\n",
    "from tqdm import tqdm\n",
    "from sklearn.manifold import TSNE"
   ]
  },
  {
   "cell_type": "code",
   "execution_count": 16,
   "id": "opposed-satisfaction",
   "metadata": {},
   "outputs": [],
   "source": [
    "matrixs = listdir(\"../data/Matrix/\")\n",
    "\n",
    "matrix_values = []\n",
    "hhid_order = None\n",
    "\n",
    "for f_name in tqdm(matrixs):\n",
    "    temp_df = pd.read_csv('../data/Matrix/FamilyAgeGender.zip', index_col=0)\n",
    "    if hhid_order is None:\n",
    "        hhid_order = temp_df.index.values\n",
    "    temp_df = temp_df[list(map(str, hhid_order))].loc[hhid_order]\n",
    "    m = temp_df.values\n",
    "    matrix_values.append(m + m.T)"
   ]
  },
  {
   "cell_type": "code",
   "execution_count": 25,
   "id": "blind-tract",
   "metadata": {},
   "outputs": [],
   "source": [
    "tsne_model = TSNE(n_components=3, random_state=19, metric='precomputed', n_iter=300, verbose=1)"
   ]
  },
  {
   "cell_type": "code",
   "execution_count": 26,
   "id": "flying-uncle",
   "metadata": {},
   "outputs": [
    {
     "name": "stderr",
     "output_type": "stream",
     "text": [
      "C:\\Users\\Lenovo\\AppData\\Local\\Programs\\Python\\Python38\\lib\\site-packages\\sklearn\\manifold\\_t_sne.py:800: FutureWarning: The default initialization in TSNE will change from 'random' to 'pca' in 1.2.\n",
      "  warnings.warn(\n",
      "C:\\Users\\Lenovo\\AppData\\Local\\Programs\\Python\\Python38\\lib\\site-packages\\sklearn\\manifold\\_t_sne.py:810: FutureWarning: The default learning rate in TSNE will change from 200.0 to 'auto' in 1.2.\n",
      "  warnings.warn(\n"
     ]
    },
    {
     "name": "stdout",
     "output_type": "stream",
     "text": [
      "[t-SNE] Computing 91 nearest neighbors...\n",
      "[t-SNE] Indexed 9473 samples in 0.501s...\n",
      "[t-SNE] Computed neighbors for 9473 samples in 2.108s...\n",
      "[t-SNE] Computed conditional probabilities for sample 1000 / 9473\n",
      "[t-SNE] Computed conditional probabilities for sample 2000 / 9473\n",
      "[t-SNE] Computed conditional probabilities for sample 3000 / 9473\n",
      "[t-SNE] Computed conditional probabilities for sample 4000 / 9473\n",
      "[t-SNE] Computed conditional probabilities for sample 5000 / 9473\n",
      "[t-SNE] Computed conditional probabilities for sample 6000 / 9473\n",
      "[t-SNE] Computed conditional probabilities for sample 7000 / 9473\n",
      "[t-SNE] Computed conditional probabilities for sample 8000 / 9473\n",
      "[t-SNE] Computed conditional probabilities for sample 9000 / 9473\n",
      "[t-SNE] Computed conditional probabilities for sample 9473 / 9473\n",
      "[t-SNE] Mean sigma: 0.000000\n",
      "[t-SNE] KL divergence after 250 iterations with early exaggeration: 60.407436\n",
      "[t-SNE] KL divergence after 300 iterations: 1.436138\n"
     ]
    }
   ],
   "source": [
    "result = []\n",
    "for m in matrix_values:\n",
    "    result.append(\n",
    "        tsne_model.fit_transform(m)\n",
    "    )"
   ]
  },
  {
   "cell_type": "code",
   "execution_count": 36,
   "id": "future-aviation",
   "metadata": {},
   "outputs": [
    {
     "data": {
      "text/plain": [
       "(9473, 3)"
      ]
     },
     "execution_count": 36,
     "metadata": {},
     "output_type": "execute_result"
    }
   ],
   "source": [
    "data = np.concatenate(result, axis=1)\n",
    "data.shape"
   ]
  },
  {
   "cell_type": "code",
   "execution_count": 38,
   "id": "assured-oakland",
   "metadata": {},
   "outputs": [],
   "source": [
    "data_df = pd.DataFrame(data, index=hhid_order)\n",
    "data_df.to_csv('../data/vectors.zip', compression={'method': 'zip', 'archive_name': 'vector.csv'})"
   ]
  },
  {
   "cell_type": "code",
   "execution_count": null,
   "id": "brazilian-movie",
   "metadata": {},
   "outputs": [],
   "source": []
  }
 ],
 "metadata": {
  "kernelspec": {
   "display_name": "Python 3",
   "language": "python",
   "name": "python3"
  },
  "language_info": {
   "codemirror_mode": {
    "name": "ipython",
    "version": 3
   },
   "file_extension": ".py",
   "mimetype": "text/x-python",
   "name": "python",
   "nbconvert_exporter": "python",
   "pygments_lexer": "ipython3",
   "version": "3.8.2"
  }
 },
 "nbformat": 4,
 "nbformat_minor": 5
}
