{
 "cells": [
  {
   "cell_type": "code",
   "execution_count": 26,
   "metadata": {},
   "outputs": [],
   "source": [
    "import pandas as pd\n",
    "import numpy as np\n",
    "# from geopy.geocoders import Nominatim\n",
    "from tqdm import tqdm, trange\n",
    "\n",
    "import seaborn as sns\n",
    "from matplotlib import pyplot as plt\n",
    "from matplotlib.font_manager import FontProperties"
   ]
  },
  {
   "cell_type": "code",
   "execution_count": 27,
   "metadata": {},
   "outputs": [
    {
     "data": {
      "text/plain": [
       "(28205, 48)"
      ]
     },
     "execution_count": 27,
     "metadata": {},
     "output_type": "execute_result"
    }
   ],
   "source": [
    "dataset = pd.read_csv('1k_refah_db_clean.zip')\n",
    "dataset.shape"
   ]
  },
  {
   "cell_type": "code",
   "execution_count": 28,
   "metadata": {},
   "outputs": [
    {
     "name": "stdout",
     "output_type": "stream",
     "text": [
      "number of people: 28205\n",
      "number of families: 9473\n"
     ]
    }
   ],
   "source": [
    "print('number of people:', len(dataset['ParentID']))\n",
    "print('number of families:', len(np.unique(dataset['ParentID'])))"
   ]
  },
  {
   "cell_type": "code",
   "execution_count": 29,
   "metadata": {},
   "outputs": [],
   "source": [
    "# \"families\" is a dictionary from the parentID to all family members' IDs\n",
    "families = dict()\n",
    "for parent in np.unique(dataset['ParentID']):\n",
    "    families[parent] = []\n",
    "for i in range(len(dataset)):\n",
    "    families[dataset.loc[i, \"ParentID\"]].append(dataset.loc[i, \"ID\"])\n",
    "pops = np.unique(list(len(families[item]) for item in list(families.keys())))\n",
    "families_pops = [0] * (pops[-1]+1)\n",
    "for i in pops:\n",
    "    families_pops[i] = sum(len(value) == i for value in families.values())\n",
    "families_pops = families_pops[1:]"
   ]
  },
  {
   "cell_type": "code",
   "execution_count": 31,
   "metadata": {},
   "outputs": [],
   "source": [
    "def logalize(number):\n",
    "    return np.log10(number+1)"
   ]
  },
  {
   "cell_type": "code",
   "execution_count": 36,
   "metadata": {},
   "outputs": [],
   "source": [
    "def family_similarity_matrix(family1, family2):\n",
    "    array = np.zeros(len(family1))\n",
    "    for i in range(len(array)):\n",
    "        array[i] = (i+1)*pow(abs(family1[i] - family2[i]), 2)\n",
    "    return sum(array)"
   ]
  },
  {
   "cell_type": "code",
   "execution_count": 47,
   "metadata": {},
   "outputs": [],
   "source": [
    "def calc_similarity_column(all_families_Am, i):\n",
    "    family = all_families_Am[i]\n",
    "    return (np.dot([1, 2, 3, 4], (pow(all_families_Am-family.reshape(1, -1), 2).T))).T\n"
   ]
  },
  {
   "cell_type": "markdown",
   "metadata": {},
   "source": [
    "## family AmCrdtrs & AmDbtrs"
   ]
  },
  {
   "cell_type": "code",
   "execution_count": 32,
   "metadata": {},
   "outputs": [],
   "source": [
    "def count_fam_AmCrdtrs_and_AmDbtrs(dataset, family):\n",
    "    total_AmCrdtr_95, total_AmCrdtr_96, total_AmCrdtr_97, total_AmCrdtr_98 = 0, 0, 0, 0\n",
    "    total_AmDbtr_95, total_AmDbtr_96, total_AmDbtr_97, total_AmDbtr_98 = 0, 0, 0, 0\n",
    "\n",
    "    for person in family:\n",
    "        cell = dataset.loc[dataset.ID == person]\n",
    "        #AmCrdtrs\n",
    "        total_AmCrdtr_95 += list(cell['AmCrdtr_95'])[0]\n",
    "        total_AmCrdtr_96 += list(cell['AmCrdtr_96'])[0]\n",
    "        total_AmCrdtr_97 += list(cell['AmCrdtr_97'])[0]\n",
    "        total_AmCrdtr_98 += list(cell['AmCrdtr_98'])[0]\n",
    "        \n",
    "        #AmDbtrs\n",
    "        total_AmDbtr_95 += list(cell['Amdbtr_95'])[0]\n",
    "        total_AmDbtr_96 += list(cell['Amdbtr_96'])[0]\n",
    "        total_AmDbtr_97 += list(cell['Amdbtr_97'])[0]\n",
    "        total_AmDbtr_98 += list(cell['Amdbtr_98'])[0]\n",
    "    \n",
    "    all_data = [total_AmCrdtr_95, total_AmCrdtr_96, total_AmCrdtr_97, total_AmCrdtr_98, total_AmDbtr_95, total_AmDbtr_96, total_AmDbtr_97, total_AmDbtr_98]\n",
    "    for i in range(len(all_data)):\n",
    "        all_data[i] = logalize(all_data[i])\n",
    "\n",
    "    return all_data[0:4], all_data[4:8]"
   ]
  },
  {
   "cell_type": "code",
   "execution_count": 34,
   "metadata": {},
   "outputs": [],
   "source": [
    "family_AmCrdtrs, family_AmDbtrs = dict(), dict()\n",
    "for parent, family in families.items():\n",
    "    family_AmCrdtrs[parent], family_AmDbtrs[parent] = count_fam_AmCrdtrs_and_AmDbtrs(dataset, family)"
   ]
  },
  {
   "cell_type": "code",
   "execution_count": 38,
   "metadata": {},
   "outputs": [
    {
     "name": "stdout",
     "output_type": "stream",
     "text": [
      "1.9790751932390303\n",
      "2.1124983953054945\n"
     ]
    }
   ],
   "source": [
    "print(family_similarity_matrix(list(family_AmCrdtrs.items())[0][1], list(family_AmCrdtrs.items())[1][1]))\n",
    "print(family_similarity_matrix(list(family_AmDbtrs.items())[0][1], list(family_AmDbtrs.items())[1][1]))\n"
   ]
  },
  {
   "cell_type": "code",
   "execution_count": 45,
   "metadata": {},
   "outputs": [
    {
     "name": "stderr",
     "output_type": "stream",
     "text": [
      "100%|██████████| 9473/9473 [02:10<00:00, 72.75it/s] \n",
      "100%|██████████| 9473/9473 [02:00<00:00, 78.64it/s] \n"
     ]
    },
    {
     "data": {
      "text/plain": [
       "array([8.51188336, 9.04139269, 8.95784663, 9.26422735])"
      ]
     },
     "execution_count": 45,
     "metadata": {},
     "output_type": "execute_result"
    }
   ],
   "source": [
    "all_families_AmCrdtrs = np.array([list(family_AmCrdtrs.items())[i][1] for i in trange(len(family_AmCrdtrs))])\n",
    "all_families_AmCrdtrs_inds = [list(family_AmCrdtrs.items())[i][0] for i in trange(len(family_AmCrdtrs))]\n",
    "\n",
    "all_families_AmCrdtrs[0]"
   ]
  },
  {
   "cell_type": "code",
   "execution_count": 46,
   "metadata": {},
   "outputs": [
    {
     "name": "stderr",
     "output_type": "stream",
     "text": [
      "100%|██████████| 9473/9473 [02:17<00:00, 68.79it/s] \n",
      "100%|██████████| 9473/9473 [01:56<00:00, 81.30it/s] \n"
     ]
    },
    {
     "data": {
      "text/plain": [
       "array([8.51188336, 9.04139269, 8.95784663, 9.26422735])"
      ]
     },
     "execution_count": 46,
     "metadata": {},
     "output_type": "execute_result"
    }
   ],
   "source": [
    "all_families_AmDbtrs = np.array([list(family_AmDbtrs.items())[i][1] for i in trange(len(family_AmDbtrs))])\n",
    "all_families_AmDbtrs_inds = [list(family_AmDbtrs.items())[i][0] for i in trange(len(family_AmDbtrs))]\n",
    "\n",
    "all_families_AmDbtrs[0]"
   ]
  },
  {
   "cell_type": "code",
   "execution_count": 49,
   "metadata": {},
   "outputs": [
    {
     "name": "stdout",
     "output_type": "stream",
     "text": [
      "[  0.           1.97907519   0.921181   ... 479.39657548 477.80538897\n",
      " 819.97840415]\n",
      "[  0.           2.1124984    0.91073122 ... 479.39657548 477.80538897\n",
      " 819.97840415]\n"
     ]
    }
   ],
   "source": [
    "print(calc_similarity_column(all_families_AmCrdtrs, 0))\n",
    "print(calc_similarity_column(all_families_AmDbtrs, 0))"
   ]
  },
  {
   "cell_type": "code",
   "execution_count": 14,
   "metadata": {},
   "outputs": [
    {
     "name": "stderr",
     "output_type": "stream",
     "text": [
      "100%|██████████| 9473/9473 [00:03<00:00, 3082.44it/s]\n"
     ]
    }
   ],
   "source": [
    "AmCrdtrs_matrix = np.array([calc_similarity_column(all_families_AmCrdtrs, i) for i in trange(len(family_AmCrdtrs))])"
   ]
  },
  {
   "cell_type": "code",
   "execution_count": 50,
   "metadata": {},
   "outputs": [
    {
     "name": "stderr",
     "output_type": "stream",
     "text": [
      "100%|██████████| 9473/9473 [00:07<00:00, 1188.90it/s]\n"
     ]
    }
   ],
   "source": [
    "AmDbtrs_matrix = np.array([calc_similarity_column(all_families_AmDbtrs, i) for i in trange(len(family_AmDbtrs))])"
   ]
  },
  {
   "cell_type": "code",
   "execution_count": 53,
   "metadata": {},
   "outputs": [
    {
     "data": {
      "image/png": "[encoded data removed]",
      "text/plain": [
       "<Figure size 432x288 with 2 Axes>"
      ]
     },
     "metadata": {
      "needs_background": "light"
     },
     "output_type": "display_data"
    }
   ],
   "source": [
    "plt.subplot(1, 2, 1)\n",
    "plt.hist(AmCrdtrs_matrix.reshape(-1), bins=200)\n",
    "\n",
    "plt.subplot(1, 2, 2)\n",
    "plt.hist(AmDbtrs_matrix.reshape(-1), bins=200)\n",
    "\n",
    "plt.show()"
   ]
  },
  {
   "cell_type": "code",
   "execution_count": 55,
   "metadata": {},
   "outputs": [
    {
     "data": {
      "image/png": "[encoded data removed]",
      "text/plain": [
       "<Figure size 432x288 with 2 Axes>"
      ]
     },
     "metadata": {
      "needs_background": "light"
     },
     "output_type": "display_data"
    }
   ],
   "source": [
    "plt.subplot(1, 2, 1)\n",
    "AmCrdtrs_matrix_log = np.log2(AmCrdtrs_matrix+1)\n",
    "AmCrdtrs_matrix_log = np.round(AmCrdtrs_matrix_log, 2)\n",
    "plt.hist(AmCrdtrs_matrix_log.reshape(-1), bins=100)\n",
    "\n",
    "plt.subplot(1, 2, 2)\n",
    "AmDbtrs_matrix_log = np.log2(AmDbtrs_matrix+1)\n",
    "AmDbtrs_matrix_log = np.round(AmDbtrs_matrix_log, 2)\n",
    "plt.hist(AmDbtrs_matrix_log.reshape(-1), bins=100)\n",
    "\n",
    "plt.show()"
   ]
  },
  {
   "cell_type": "code",
   "execution_count": 56,
   "metadata": {},
   "outputs": [],
   "source": [
    "AmCrdtrs_matrix_log_triu = np.triu(AmCrdtrs_matrix_log, k=1)\n",
    "AmDbtrs_matrix_log_triu = np.triu(AmDbtrs_matrix_log, k=1)"
   ]
  },
  {
   "cell_type": "code",
   "execution_count": 57,
   "metadata": {},
   "outputs": [],
   "source": [
    "AmCrdtrs_file = pd.DataFrame(AmCrdtrs_matrix_log_triu, index=all_families_AmCrdtrs_inds, columns=all_families_AmCrdtrs_inds)\n",
    "AmCrdtrs_file.to_csv('data/AmCrdtrs_matrix.zip', compression={'method': 'zip', 'archive_name': 'AmCrdtrs_matrix.csv'})"
   ]
  },
  {
   "cell_type": "code",
   "execution_count": 58,
   "metadata": {},
   "outputs": [],
   "source": [
    "AmDbtrs_file = pd.DataFrame(AmDbtrs_matrix_log_triu, index=all_families_AmDbtrs_inds, columns=all_families_AmDbtrs_inds)\n",
    "AmDbtrs_file.to_csv('data/AmDbtrs_matrix.zip', compression={'method': 'zip', 'archive_name': 'AmDbtrs_matrix.csv'})"
   ]
  },
  {
   "cell_type": "markdown",
   "metadata": {},
   "source": [
    "## family frstPrds & lstPrds & SmBnfts"
   ]
  },
  {
   "cell_type": "code",
   "execution_count": 63,
   "metadata": {},
   "outputs": [],
   "source": [
    "def count_fam_frstPrds_and_lstPrds_and_SmBnfts(dataset, family):\n",
    "    total_frstPrd_95, total_frstPrd_96, total_frstPrd_97, total_frstPrd_98 = 0, 0, 0, 0\n",
    "    total_lstPrd_95, total_lstPrd_96, total_lstPrd_97, total_lstPrd_98 = 0, 0, 0, 0\n",
    "    total_SmBnft_95, total_SmBnft_96, total_SmBnft_97, total_SmBnft_98 = 0, 0, 0, 0\n",
    "\n",
    "    for person in family:\n",
    "        cell = dataset.loc[dataset.ID == person]\n",
    "        #frstPrds\n",
    "        total_frstPrd_95 += list(cell['frstPrd_95'])[0]\n",
    "        total_frstPrd_96 += list(cell['frstPrd_96'])[0]\n",
    "        total_frstPrd_97 += list(cell['frstPrd_97'])[0]\n",
    "        total_frstPrd_98 += list(cell['frstPrd_98'])[0]\n",
    "\n",
    "        #lstPrds\n",
    "        total_lstPrd_95 += list(cell['lstPrd_95'])[0]\n",
    "        total_lstPrd_96 += list(cell['lstPrd_96'])[0]\n",
    "        total_lstPrd_97 += list(cell['lstPrd_97'])[0]\n",
    "        total_lstPrd_98 += list(cell['lstPrd_98'])[0]\n",
    "\n",
    "        #SmBnfts\n",
    "        total_SmBnft_95 += list(cell['SmBnft_95'])[0]\n",
    "        total_SmBnft_96 += list(cell['SmBnft_96'])[0]\n",
    "        total_SmBnft_97 += list(cell['SmBnft_97'])[0]\n",
    "        total_SmBnft_98 += list(cell['SmBnft_98'])[0]\n",
    "    \n",
    "    all_data = [total_frstPrd_95, total_frstPrd_96, total_frstPrd_97, total_frstPrd_98, total_lstPrd_95, total_lstPrd_96, total_lstPrd_97, total_lstPrd_98, total_SmBnft_95, total_SmBnft_96, total_SmBnft_97, total_SmBnft_98]\n",
    "    for i in range(len(all_data)):\n",
    "        all_data[i] = logalize(all_data[i])\n",
    "    \n",
    "    return all_data[0:4], all_data[4:8], all_data[8:12]"
   ]
  },
  {
   "cell_type": "code",
   "execution_count": 65,
   "metadata": {},
   "outputs": [],
   "source": [
    "family_frstPrds, family_lstPrds, family_SmBnfts = dict(), dict(), dict()\n",
    "for parent, family in families.items():\n",
    "    family_frstPrds[parent], family_lstPrds[parent], family_SmBnfts[parent] = count_fam_frstPrds_and_lstPrds_and_SmBnfts(dataset, family)"
   ]
  },
  {
   "cell_type": "code",
   "execution_count": 67,
   "metadata": {},
   "outputs": [
    {
     "name": "stdout",
     "output_type": "stream",
     "text": [
      "7.046428072167731\n",
      "8.02410310809363\n",
      "2.7117373965342386\n"
     ]
    }
   ],
   "source": [
    "print(family_similarity_matrix(list(family_frstPrds.items())[0][1], list(family_frstPrds.items())[1][1]))\n",
    "print(family_similarity_matrix(list(family_lstPrds.items())[0][1], list(family_lstPrds.items())[1][1]))\n",
    "print(family_similarity_matrix(list(family_SmBnfts.items())[0][1], list(family_SmBnfts.items())[1][1]))"
   ]
  },
  {
   "cell_type": "code",
   "execution_count": 69,
   "metadata": {},
   "outputs": [
    {
     "name": "stderr",
     "output_type": "stream",
     "text": [
      "100%|██████████| 9473/9473 [02:34<00:00, 61.21it/s]\n",
      "100%|██████████| 9473/9473 [02:07<00:00, 74.16it/s]\n"
     ]
    },
    {
     "data": {
      "text/plain": [
       "array([6.87506132, 7.39794003, 6.87506132, 6.69897009])"
      ]
     },
     "execution_count": 69,
     "metadata": {},
     "output_type": "execute_result"
    }
   ],
   "source": [
    "all_families_frstPrds = np.array([list(family_frstPrds.items())[i][1] for i in trange(len(family_frstPrds))])\n",
    "all_families_frstPrds_inds = [list(family_frstPrds.items())[i][0] for i in trange(len(family_frstPrds))]\n",
    "\n",
    "all_families_frstPrds[0]"
   ]
  },
  {
   "cell_type": "code",
   "execution_count": 70,
   "metadata": {},
   "outputs": [
    {
     "name": "stderr",
     "output_type": "stream",
     "text": [
      "100%|██████████| 9473/9473 [02:08<00:00, 73.95it/s] \n",
      "100%|██████████| 9473/9473 [02:13<00:00, 70.72it/s]\n"
     ]
    }
   ],
   "source": [
    "all_families_lstPrds = np.array([list(family_lstPrds.items())[i][1] for i in trange(len(family_lstPrds))])\n",
    "all_families_lstPrds_inds = [list(family_lstPrds.items())[i][0] for i in trange(len(family_lstPrds))]"
   ]
  },
  {
   "cell_type": "code",
   "execution_count": 71,
   "metadata": {},
   "outputs": [
    {
     "name": "stderr",
     "output_type": "stream",
     "text": [
      "100%|██████████| 9473/9473 [01:59<00:00, 79.50it/s]\n",
      "100%|██████████| 9473/9473 [02:05<00:00, 75.23it/s] \n"
     ]
    }
   ],
   "source": [
    "all_families_SmBnfts = np.array([list(family_SmBnfts.items())[i][1] for i in trange(len(family_SmBnfts))])\n",
    "all_families_SmBnfts_inds = [list(family_SmBnfts.items())[i][0] for i in trange(len(family_SmBnfts))]"
   ]
  },
  {
   "cell_type": "code",
   "execution_count": 112,
   "metadata": {},
   "outputs": [
    {
     "name": "stdout",
     "output_type": "stream",
     "text": [
      "[  0.           7.04642807  10.53327543 ... 300.23165194 305.18166229\n",
      " 478.02970708]\n",
      "[  0.           8.02410311  12.52477088 ... 296.99440965 299.7188654\n",
      " 492.75814215]\n",
      "[  0.           2.7117374    0.45309503 ... 265.31463999 429.0491943\n",
      " 429.0491943 ]\n"
     ]
    }
   ],
   "source": [
    "print(calc_similarity_column(all_families_frstPrds, 0))\n",
    "print(calc_similarity_column(all_families_lstPrds, 0))\n",
    "print(calc_similarity_column(all_families_SmBnfts, 0))"
   ]
  },
  {
   "cell_type": "code",
   "execution_count": 73,
   "metadata": {},
   "outputs": [
    {
     "name": "stderr",
     "output_type": "stream",
     "text": [
      "100%|██████████| 9473/9473 [00:10<00:00, 946.40it/s] \n"
     ]
    }
   ],
   "source": [
    "frstPrds_matrix = np.array([calc_similarity_column(all_families_frstPrds, i) for i in trange(len(family_frstPrds))])"
   ]
  },
  {
   "cell_type": "code",
   "execution_count": 74,
   "metadata": {},
   "outputs": [
    {
     "name": "stderr",
     "output_type": "stream",
     "text": [
      "100%|██████████| 9473/9473 [00:09<00:00, 1009.70it/s]\n"
     ]
    }
   ],
   "source": [
    "lstPrds_matrix = np.array([calc_similarity_column(all_families_lstPrds, i) for i in trange(len(family_lstPrds))])"
   ]
  },
  {
   "cell_type": "code",
   "execution_count": 75,
   "metadata": {},
   "outputs": [
    {
     "name": "stderr",
     "output_type": "stream",
     "text": [
      "100%|██████████| 9473/9473 [00:10<00:00, 938.54it/s] \n"
     ]
    }
   ],
   "source": [
    "SmBnfts_matrix = np.array([calc_similarity_column(all_families_SmBnfts, i) for i in trange(len(family_SmBnfts))])"
   ]
  },
  {
   "cell_type": "code",
   "execution_count": 76,
   "metadata": {},
   "outputs": [
    {
     "data": {
      "image/png": "[encoded data removed]",
      "text/plain": [
       "<Figure size 432x288 with 3 Axes>"
      ]
     },
     "metadata": {
      "needs_background": "light"
     },
     "output_type": "display_data"
    }
   ],
   "source": [
    "plt.subplot(1, 3, 1)\n",
    "plt.hist(frstPrds_matrix.reshape(-1), bins=200)\n",
    "\n",
    "plt.subplot(1, 3, 2)\n",
    "plt.hist(lstPrds_matrix.reshape(-1), bins=200)\n",
    "\n",
    "plt.subplot(1, 3, 3)\n",
    "plt.hist(SmBnfts_matrix.reshape(-1), bins=200)\n",
    "\n",
    "plt.show()"
   ]
  },
  {
   "cell_type": "code",
   "execution_count": 77,
   "metadata": {},
   "outputs": [
    {
     "data": {
      "image/png": "[encoded data removed]",
      "text/plain": [
       "<Figure size 432x288 with 3 Axes>"
      ]
     },
     "metadata": {
      "needs_background": "light"
     },
     "output_type": "display_data"
    }
   ],
   "source": [
    "plt.subplot(1, 3, 1)\n",
    "frstPrds_matrix_log = np.log2(frstPrds_matrix+1)\n",
    "frstPrds_matrix_log = np.round(frstPrds_matrix_log, 2)\n",
    "plt.hist(frstPrds_matrix_log.reshape(-1), bins=100)\n",
    "\n",
    "plt.subplot(1, 3, 2)\n",
    "lstPrds_matrix_log = np.log2(lstPrds_matrix+1)\n",
    "lstPrds_matrix_log = np.round(lstPrds_matrix_log, 2)\n",
    "plt.hist(lstPrds_matrix_log.reshape(-1), bins=100)\n",
    "\n",
    "plt.subplot(1, 3, 3)\n",
    "SmBnfts_matrix_log = np.log2(SmBnfts_matrix+1)\n",
    "SmBnfts_matrix_log = np.round(SmBnfts_matrix_log, 2)\n",
    "plt.hist(SmBnfts_matrix_log.reshape(-1), bins=100)\n",
    "\n",
    "plt.show()"
   ]
  },
  {
   "cell_type": "code",
   "execution_count": 82,
   "metadata": {},
   "outputs": [],
   "source": [
    "frstPrds_matrix_log_triu = np.triu(frstPrds_matrix_log, k=1)\n",
    "lstPrds_matrix_log_triu = np.triu(lstPrds_matrix_log, k=1)\n",
    "SmBnfts_matrix_log_triu = np.triu(SmBnfts_matrix_log, k=1)"
   ]
  },
  {
   "cell_type": "code",
   "execution_count": 84,
   "metadata": {},
   "outputs": [],
   "source": [
    "frstPrds_file = pd.DataFrame(frstPrds_matrix_log_triu, index=all_families_frstPrds_inds, columns=all_families_frstPrds_inds)\n",
    "frstPrds_file.to_csv('data/frstPrds_matrix.zip', compression={'method': 'zip', 'archive_name': 'frstPrds_matrix.csv'})"
   ]
  },
  {
   "cell_type": "code",
   "execution_count": 85,
   "metadata": {},
   "outputs": [],
   "source": [
    "lstPrds_file = pd.DataFrame(lstPrds_matrix_log_triu, index=all_families_lstPrds_inds, columns=all_families_lstPrds_inds)\n",
    "lstPrds_file.to_csv('data/lstPrds_matrix.zip', compression={'method': 'zip', 'archive_name': 'lstPrds_matrix.csv'})"
   ]
  },
  {
   "cell_type": "code",
   "execution_count": 86,
   "metadata": {},
   "outputs": [],
   "source": [
    "SmBnfts_file = pd.DataFrame(SmBnfts_matrix_log_triu, index=all_families_SmBnfts_inds, columns=all_families_SmBnfts_inds)\n",
    "SmBnfts_file.to_csv('data/SmBnfts_matrix.zip', compression={'method': 'zip', 'archive_name': 'SmBnfts_matrix.csv'})"
   ]
  },
  {
   "cell_type": "markdown",
   "metadata": {},
   "source": [
    "## family_card98_and_card99"
   ]
  },
  {
   "cell_type": "code",
   "execution_count": 88,
   "metadata": {},
   "outputs": [],
   "source": [
    "def count_fam_card98_and_card99(dataset, family):\n",
    "    total_frstPrd_95, total_frstPrd_96, total_frstPrd_97, total_frstPrd_98 = 0, 0, 0, 0\n",
    "    total_lstPrd_95, total_lstPrd_96, total_lstPrd_97, total_lstPrd_98 = 0, 0, 0, 0\n",
    "    total_SmBnft_95, total_SmBnft_96, total_SmBnft_97, total_SmBnft_98 = 0, 0, 0, 0\n",
    "    total_card98, total_card99 = 0, 0\n",
    "\n",
    "    for person in family:\n",
    "        cell = dataset.loc[dataset.ID == person]\n",
    "\n",
    "        #card98\n",
    "        total_card98 += list(cell['Card98_Rials'])[0]\n",
    "        #card99\n",
    "        total_card99 += list(cell['Card99_Rials'])[0]\n",
    "    \n",
    "    all_data = [logalize(total_card98), logalize(total_card99)]\n",
    "    \n",
    "    return all_data"
   ]
  },
  {
   "cell_type": "code",
   "execution_count": 89,
   "metadata": {},
   "outputs": [],
   "source": [
    "family_frstPrds, family_lstPrds, family_SmBnfts = dict(), dict(), dict()\n",
    "family_card98, family_card99 = dict(), dict()\n",
    "for parent, family in families.items():\n",
    "    [family_card98[parent], family_card99[parent]] = count_fam_card98_and_card99(dataset, family)"
   ]
  },
  {
   "cell_type": "code",
   "execution_count": 136,
   "metadata": {},
   "outputs": [],
   "source": [
    "def family_card_similarity(family1, family2):\n",
    "    return 10*(family1 - family2)**2"
   ]
  },
  {
   "cell_type": "code",
   "execution_count": 137,
   "metadata": {},
   "outputs": [
    {
     "name": "stdout",
     "output_type": "stream",
     "text": [
      "2.2079809566823103\n",
      "2.294027593801229\n"
     ]
    }
   ],
   "source": [
    "print(family_card_similarity(list(family_card98.items())[0][1], list(family_card98.items())[1][1]))\n",
    "print(family_card_similarity(list(family_card99.items())[0][1], list(family_card99.items())[1][1]))"
   ]
  },
  {
   "cell_type": "code",
   "execution_count": 138,
   "metadata": {},
   "outputs": [
    {
     "name": "stderr",
     "output_type": "stream",
     "text": [
      "100%|██████████| 9473/9473 [00:06<00:00, 1483.27it/s]\n",
      "100%|██████████| 9473/9473 [00:10<00:00, 897.06it/s] \n",
      "100%|██████████| 9473/9473 [00:06<00:00, 1399.06it/s]\n",
      "100%|██████████| 9473/9473 [00:06<00:00, 1390.76it/s]\n"
     ]
    },
    {
     "data": {
      "text/plain": [
       "8.746897777715771"
      ]
     },
     "execution_count": 138,
     "metadata": {},
     "output_type": "execute_result"
    }
   ],
   "source": [
    "all_families_card98 = np.array([list(family_card98.items())[i][1] for i in trange(len(family_card98))])\n",
    "all_families_card98_inds = [list(family_card98.items())[i][0] for i in trange(len(family_card98))]\n",
    "\n",
    "all_families_card99 = np.array([list(family_card99.items())[i][1] for i in trange(len(family_card99))])\n",
    "all_families_card99_inds = [list(family_card99.items())[i][0] for i in trange(len(family_card99))]\n",
    "\n",
    "all_families_card98[0]"
   ]
  },
  {
   "cell_type": "code",
   "execution_count": 145,
   "metadata": {},
   "outputs": [],
   "source": [
    "def calc_similarity_column_for_cards(all_families_card, i):\n",
    "    family = all_families_card[i]\n",
    "    return 10*pow(all_families_card-family, 2)"
   ]
  },
  {
   "cell_type": "code",
   "execution_count": 146,
   "metadata": {},
   "outputs": [
    {
     "name": "stdout",
     "output_type": "stream",
     "text": [
      "[0.00000000e+00 2.20798096e+00 2.69782309e-01 ... 5.86147688e+00\n",
      " 2.20711054e-02 7.65082207e+02]\n",
      "[  0.           2.29402759   5.88799707 ...   2.68811636   1.57667965\n",
      " 751.32040527]\n"
     ]
    }
   ],
   "source": [
    "print(calc_similarity_column_for_cards(all_families_card98, 0))\n",
    "print(calc_similarity_column_for_cards(all_families_card99, 0))"
   ]
  },
  {
   "cell_type": "code",
   "execution_count": 147,
   "metadata": {},
   "outputs": [
    {
     "name": "stderr",
     "output_type": "stream",
     "text": [
      "100%|██████████| 9473/9473 [00:00<00:00, 15210.00it/s]\n",
      "100%|██████████| 9473/9473 [00:00<00:00, 12350.71it/s]\n"
     ]
    }
   ],
   "source": [
    "card98_matrix = np.array([calc_similarity_column_for_cards(all_families_card98, i) for i in trange(len(family_card98))])\n",
    "card99_matrix = np.array([calc_similarity_column_for_cards(all_families_card99, i) for i in trange(len(family_card99))])"
   ]
  },
  {
   "cell_type": "code",
   "execution_count": 148,
   "metadata": {},
   "outputs": [
    {
     "data": {
      "image/png": "[encoded data removed]",
      "text/plain": [
       "<Figure size 432x288 with 2 Axes>"
      ]
     },
     "metadata": {
      "needs_background": "light"
     },
     "output_type": "display_data"
    }
   ],
   "source": [
    "plt.subplot(1, 2, 1)\n",
    "plt.hist(card98_matrix.reshape(-1), bins=200)\n",
    "\n",
    "plt.subplot(1, 2, 2)\n",
    "plt.hist(card99_matrix.reshape(-1), bins=200)\n",
    "\n",
    "plt.show()"
   ]
  },
  {
   "cell_type": "code",
   "execution_count": 150,
   "metadata": {},
   "outputs": [
    {
     "data": {
      "image/png": "[encoded data removed]",
      "text/plain": [
       "<Figure size 432x288 with 2 Axes>"
      ]
     },
     "metadata": {
      "needs_background": "light"
     },
     "output_type": "display_data"
    }
   ],
   "source": [
    "plt.subplot(1, 2, 1)\n",
    "card98_matrix_log = np.log2(card98_matrix+1)\n",
    "card98_matrix_log = np.round(card98_matrix_log, 2)\n",
    "plt.hist(card98_matrix_log.reshape(-1), bins=100)\n",
    "\n",
    "plt.subplot(1, 2, 2)\n",
    "card99_matrix_log = np.log2(card99_matrix+1)\n",
    "card99_matrix_log = np.round(card99_matrix_log, 2)\n",
    "plt.hist(card99_matrix_log.reshape(-1), bins=100)\n",
    "\n",
    "plt.show()"
   ]
  },
  {
   "cell_type": "code",
   "execution_count": 151,
   "metadata": {},
   "outputs": [],
   "source": [
    "card98_matrix_log_triu = np.triu(card98_matrix_log, k=1)\n",
    "card99_matrix_log_triu = np.triu(card99_matrix_log, k=1)"
   ]
  },
  {
   "cell_type": "code",
   "execution_count": 154,
   "metadata": {},
   "outputs": [],
   "source": [
    "card98_file = pd.DataFrame(card98_matrix_log_triu, index=all_families_card98_inds, columns=all_families_card98_inds)\n",
    "card98_file.to_csv('data/card98_matrix.zip', compression={'method': 'zip', 'archive_name': 'card98_matrix.csv'})"
   ]
  },
  {
   "cell_type": "code",
   "execution_count": 155,
   "metadata": {},
   "outputs": [],
   "source": [
    "card99_file = pd.DataFrame(card99_matrix_log_triu, index=all_families_card99_inds, columns=all_families_card99_inds)\n",
    "card99_file.to_csv('data/card99_matrix.zip', compression={'method': 'zip', 'archive_name': 'card99_matrix.csv'})"
   ]
  },
  {
   "cell_type": "markdown",
   "metadata": {},
   "source": [
    "## Other"
   ]
  },
  {
   "cell_type": "code",
   "execution_count": 29,
   "metadata": {},
   "outputs": [
    {
     "data": {
      "text/plain": [
       "<AxesSubplot:ylabel='Frequency'>"
      ]
     },
     "execution_count": 29,
     "metadata": {},
     "output_type": "execute_result"
    },
    {
     "data": {
      "image/png": "[encoded data removed]",
      "text/plain": [
       "<Figure size 432x288 with 1 Axes>"
      ]
     },
     "metadata": {
      "needs_background": "light"
     },
     "output_type": "display_data"
    }
   ],
   "source": [
    "dataset.groupby('ParentID').agg({'Card98_Rials':'sum'})['Card98_Rials'].plot(kind='hist', bins=100)"
   ]
  },
  {
   "cell_type": "code",
   "execution_count": 30,
   "metadata": {},
   "outputs": [
    {
     "data": {
      "text/plain": [
       "<AxesSubplot:ylabel='Frequency'>"
      ]
     },
     "execution_count": 30,
     "metadata": {},
     "output_type": "execute_result"
    },
    {
     "data": {
      "image/png": "[encoded data removed]",
      "text/plain": [
       "<Figure size 432x288 with 1 Axes>"
      ]
     },
     "metadata": {
      "needs_background": "light"
     },
     "output_type": "display_data"
    }
   ],
   "source": [
    "np.log10(dataset.groupby('ParentID').agg({'Card98_Rials':'sum'})['Card98_Rials'] + 1).plot(kind='hist', bins=100)"
   ]
  },
  {
   "cell_type": "code",
   "execution_count": null,
   "metadata": {},
   "outputs": [],
   "source": []
  }
 ],
 "metadata": {
  "kernelspec": {
   "display_name": "Python 3.8.10 64-bit",
   "language": "python",
   "name": "python3"
  },
  "language_info": {
   "codemirror_mode": {
    "name": "ipython",
    "version": 3
   },
   "file_extension": ".py",
   "mimetype": "text/x-python",
   "name": "python",
   "nbconvert_exporter": "python",
   "pygments_lexer": "ipython3",
   "version": "3.8.10"
  },
  "orig_nbformat": 4,
  "vscode": {
   "interpreter": {
    "hash": "b4c01c8f52586033bb4bb2bf4f864991e275e728809d596b5bf2a750c26b84f7"
   }
  }
 },
 "nbformat": 4,
 "nbformat_minor": 2
}
